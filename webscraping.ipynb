{
 "cells": [
  {
   "cell_type": "code",
   "execution_count": 6,
   "metadata": {},
   "outputs": [
    {
     "name": "stderr",
     "output_type": "stream",
     "text": [
      "/var/folders/4c/6f4zjqbs5tv0rl2p0nbskkp40000gn/T/ipykernel_28124/2388658200.py:20: DeprecationWarning: datetime.datetime.utcfromtimestamp() is deprecated and scheduled for removal in a future version. Use timezone-aware objects to represent datetimes in UTC: datetime.datetime.fromtimestamp(timestamp, datetime.UTC).\n",
      "  created_date = datetime.utcfromtimestamp(post.created_utc).strftime('%Y-%m-%d %H:%M:%S')\n"
     ]
    },
    {
     "name": "stdout",
     "output_type": "stream",
     "text": [
      "Data has been saved to product_mentions.json\n"
     ]
    }
   ],
   "source": [
    "import praw\n",
    "import json\n",
    "from datetime import datetime\n",
    "\n",
    "reddit = praw.Reddit(\n",
    "    client_id='B-qrtXmBJd2BgAAwmKozQg',\n",
    "    client_secret='iVwh4ZpT35sQMBvye7nKaz8839LDPQ',\n",
    "    user_agent='YOUR_USER_AGENT'\n",
    ")\n",
    "\n",
    "subreddit_name = 'IndianSkincareAddicts'\n",
    "subreddit = reddit.subreddit(subreddit_name)\n",
    "search_query = 'Love Beauty and Planet'\n",
    "search_results = subreddit.search(search_query, limit=30)\n",
    "\n",
    "parsed_posts = []\n",
    "\n",
    "for post in search_results:\n",
    "    # Convert UTC to a readable date-time format\n",
    "    created_date = datetime.utcfromtimestamp(post.created_utc).strftime('%Y-%m-%d %H:%M:%S')\n",
    "    \n",
    "    # Construct the full URL\n",
    "    full_permalink = f\"https://www.reddit.com{post.permalink}\"\n",
    "    \n",
    "    # Check if the post has media or images\n",
    "    media_url = None\n",
    "    if hasattr(post, 'media') and post.media:\n",
    "        media_url = post.media.get('reddit_video', {}).get('fallback_url')\n",
    "    elif hasattr(post, 'preview') and post.preview:\n",
    "        media_url = post.preview.get('images', [{}])[0].get('source', {}).get('url')\n",
    "    \n",
    "    # Append post data to the list\n",
    "    parsed_posts.append({\n",
    "        'post_title': post.title,\n",
    "        'post_url': full_permalink,\n",
    "        'score': post.score,\n",
    "        'author': str(post.author),\n",
    "        'created_date': created_date,\n",
    "        'num_comments': post.num_comments,\n",
    "        'selftext': post.selftext,\n",
    "        'media_url': media_url  # Include media URL if available\n",
    "    })\n",
    "\n",
    "# Save to JSON\n",
    "output_file_path = 'product_mentions.json'\n",
    "with open(output_file_path, 'w', encoding='utf-8') as json_file:\n",
    "    json.dump(parsed_posts, json_file, ensure_ascii=False, indent=2)\n",
    "\n",
    "print(f\"Data has been saved to {output_file_path}\")"
   ]
  }
 ],
 "metadata": {
  "kernelspec": {
   "display_name": "Python 3",
   "language": "python",
   "name": "python3"
  },
  "language_info": {
   "codemirror_mode": {
    "name": "ipython",
    "version": 3
   },
   "file_extension": ".py",
   "mimetype": "text/x-python",
   "name": "python",
   "nbconvert_exporter": "python",
   "pygments_lexer": "ipython3",
   "version": "3.12.4"
  }
 },
 "nbformat": 4,
 "nbformat_minor": 2
}
