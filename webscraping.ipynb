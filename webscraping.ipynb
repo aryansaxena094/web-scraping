{
 "cells": [
  {
   "cell_type": "code",
   "execution_count": 5,
   "metadata": {},
   "outputs": [
    {
     "name": "stdout",
     "output_type": "stream",
     "text": [
      "Data has been saved to product_mentions.json\n"
     ]
    }
   ],
   "source": [
    "import praw\n",
    "import json\n",
    "\n",
    "# Reddit API credentials\n",
    "reddit = praw.Reddit(\n",
    "    client_id='B-qrtXmBJd2BgAAwmKozQg',\n",
    "    client_secret='iVwh4ZpT35sQMBvye7nKaz8839LDPQ',\n",
    "    user_agent='YOUR_USER_AGENT'\n",
    ")\n",
    "\n",
    "subreddit_name = 'IndianSkincareAddicts'\n",
    "\n",
    "subreddit = reddit.subreddit(subreddit_name)\n",
    "\n",
    "# Keyword or product name to search for\n",
    "search_query = 'Love Beauty and Planet'  # Replace with the name of your product\n",
    "\n",
    "# Fetch posts mentioning your product\n",
    "search_results = subreddit.search(search_query, limit=30)\n",
    "\n",
    "parsed_posts = []\n",
    "\n",
    "for post in search_results:\n",
    "    parsed_posts.append({\n",
    "        'post_title': post.title,\n",
    "        'post_permalink': post.permalink,\n",
    "        'score': post.score,\n",
    "        'author': str(post.author),\n",
    "        'created_utc': post.created_utc,\n",
    "        'num_comments': post.num_comments,\n",
    "        'selftext': post.selftext  # This is the body of the post, if available\n",
    "    })\n",
    "\n",
    "# Save to JSON\n",
    "output_file_path = 'product_mentions.json'\n",
    "with open(output_file_path, 'w', encoding='utf-8') as json_file:\n",
    "    json.dump(parsed_posts, json_file, ensure_ascii=False, indent=2)\n",
    "\n",
    "print(f\"Data has been saved to {output_file_path}\")"
   ]
  }
 ],
 "metadata": {
  "kernelspec": {
   "display_name": "Python 3",
   "language": "python",
   "name": "python3"
  },
  "language_info": {
   "codemirror_mode": {
    "name": "ipython",
    "version": 3
   },
   "file_extension": ".py",
   "mimetype": "text/x-python",
   "name": "python",
   "nbconvert_exporter": "python",
   "pygments_lexer": "ipython3",
   "version": "3.12.4"
  }
 },
 "nbformat": 4,
 "nbformat_minor": 2
}
