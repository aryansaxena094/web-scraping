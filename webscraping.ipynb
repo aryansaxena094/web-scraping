{
 "cells": [
  {
   "cell_type": "code",
   "execution_count": 10,
   "metadata": {},
   "outputs": [
    {
     "name": "stderr",
     "output_type": "stream",
     "text": [
      "/var/folders/4c/6f4zjqbs5tv0rl2p0nbskkp40000gn/T/ipykernel_32923/2011019392.py:18: DeprecationWarning: datetime.datetime.utcfromtimestamp() is deprecated and scheduled for removal in a future version. Use timezone-aware objects to represent datetimes in UTC: datetime.datetime.fromtimestamp(timestamp, datetime.UTC).\n",
      "  created_date = datetime.utcfromtimestamp(post.created_utc).strftime('%Y-%m-%d %H:%M:%S')\n",
      "/var/folders/4c/6f4zjqbs5tv0rl2p0nbskkp40000gn/T/ipykernel_32923/2011019392.py:36: DeprecationWarning: datetime.datetime.utcfromtimestamp() is deprecated and scheduled for removal in a future version. Use timezone-aware objects to represent datetimes in UTC: datetime.datetime.fromtimestamp(timestamp, datetime.UTC).\n",
      "  'comment_created_date': datetime.utcfromtimestamp(comment.created_utc).strftime('%Y-%m-%d %H:%M:%S')\n"
     ]
    },
    {
     "name": "stdout",
     "output_type": "stream",
     "text": [
      "Data has been saved to product_mentions_with_comments.json\n"
     ]
    }
   ],
   "source": [
    "import praw\n",
    "import json\n",
    "from datetime import datetime\n",
    "\n",
    "reddit = praw.Reddit(\n",
    "    client_id='',\n",
    "    client_secret='',\n",
    "    user_agent=''\n",
    ")\n",
    "\n",
    "subreddit_name = 'IndianSkincareAddicts'\n",
    "subreddit = reddit.subreddit(subreddit_name)\n",
    "search_query = 'Love Beauty and Planet'\n",
    "search_results = subreddit.search(search_query, limit=1000)\n",
    "\n",
    "parsed_posts = []\n",
    "for post in search_results:\n",
    "    created_date = datetime.utcfromtimestamp(post.created_utc).strftime('%Y-%m-%d %H:%M:%S')\n",
    "    full_permalink = f\"https://www.reddit.com{post.permalink}\"\n",
    "    post_data = {\n",
    "        'post_title': post.title,\n",
    "        'post_url': full_permalink,\n",
    "        'score': post.score,\n",
    "        'author': str(post.author),\n",
    "        'created_date': created_date,\n",
    "        'num_comments': post.num_comments,\n",
    "        'selftext': post.selftext,\n",
    "        'comments': []\n",
    "    }\n",
    "    post.comments.replace_more(limit=0)\n",
    "    for comment in post.comments.list():\n",
    "        comment_data = {\n",
    "            'comment_author': str(comment.author),\n",
    "            'comment_body': comment.body,\n",
    "            'comment_score': comment.score,\n",
    "            'comment_created_date': datetime.utcfromtimestamp(comment.created_utc).strftime('%Y-%m-%d %H:%M:%S')\n",
    "        }\n",
    "        post_data['comments'].append(comment_data)\n",
    "    \n",
    "    parsed_posts.append(post_data)\n",
    "\n",
    "# Save data to a JSON file\n",
    "output_file_path = 'product_mentions_with_comments.json'\n",
    "with open(output_file_path, 'w', encoding='utf-8') as json_file:\n",
    "    json.dump(parsed_posts, json_file, ensure_ascii=False, indent=2)\n",
    "\n",
    "print(f\"Data has been saved to {output_file_path}\")"
   ]
  },
  {
   "cell_type": "code",
   "execution_count": 11,
   "metadata": {},
   "outputs": [
    {
     "name": "stdout",
     "output_type": "stream",
     "text": [
      "Top recurring adjectives have been saved to top_adjectives.json\n"
     ]
    }
   ],
   "source": [
    "import json\n",
    "import spacy\n",
    "from collections import Counter\n",
    "nlp = spacy.load('en_core_web_sm')\n",
    "def load_comments(file_path: str) -> list:\n",
    "    \"\"\"Load comments from a JSON file.\"\"\"\n",
    "    with open(file_path, 'r', encoding='utf-8') as file:\n",
    "        data = json.load(file)\n",
    "    comments = []\n",
    "    for post in data:\n",
    "        for comment in post.get('comments', []):\n",
    "            comments.append(comment.get('comment_body', ''))\n",
    "    return comments\n",
    "def extract_adjectives(text: str) -> list:\n",
    "    \"\"\"Extract adjectives from a text using spaCy.\"\"\"\n",
    "    doc = nlp(text)\n",
    "    adjectives = [token.text.lower() for token in doc if token.pos_ == 'ADJ']\n",
    "    return adjectives\n",
    "def main():\n",
    "    input_file_path = 'product_mentions_with_comments.json'\n",
    "    comments = load_comments(input_file_path)\n",
    "    all_adjectives = []\n",
    "    for comment in comments:\n",
    "        all_adjectives.extend(extract_adjectives(comment))\n",
    "    adjective_counts = Counter(all_adjectives)\n",
    "    \n",
    "    top_50_adjectives = adjective_counts.most_common(500)\n",
    "\n",
    "    output_data = [{'adjective': adj, 'count': count} for adj, count in top_50_adjectives]\n",
    "    output_file_path = 'top_adjectives.json'\n",
    "    with open(output_file_path, 'w', encoding='utf-8') as file:\n",
    "        json.dump(output_data, file, ensure_ascii=False, indent=2)\n",
    "    print(f\"Top recurring adjectives have been saved to {output_file_path}\")\n",
    "if __name__ == \"__main__\":\n",
    "    main()"
   ]
  },
  {
   "cell_type": "code",
   "execution_count": 13,
   "metadata": {},
   "outputs": [],
   "source": [
    "import json\n",
    "from datetime import datetime\n",
    "\n",
    "# Load the existing data\n",
    "input_file_path = 'product_mentions_with_comments.json'\n",
    "with open(input_file_path, 'r', encoding='utf-8') as file:\n",
    "    data = json.load(file)\n",
    "\n",
    "# Sort by number of comments (most commented first)\n",
    "sorted_by_comments = sorted(data, key=lambda x: x['num_comments'], reverse=True)\n",
    "\n",
    "# Save the sorted data to a new JSON file\n",
    "sorted_by_comments_file_path = 'sorted_by_comments.json'\n",
    "with open(sorted_by_comments_file_path, 'w', encoding='utf-8') as file:\n",
    "    json.dump(sorted_by_comments, file, ensure_ascii=False, indent=2)\n",
    "\n",
    "# Convert 'created_date' to strings for JSON serialization\n",
    "for post in sorted_by_date:\n",
    "    post['created_date'] = post['created_date'].strftime('%Y-%m-%d %H:%M:%S')\n",
    "\n",
    "# Save the sorted data to a new JSON file\n",
    "sorted_by_date_file_path = 'sorted_by_date.json'\n",
    "with open(sorted_by_date_file_path, 'w', encoding='utf-8') as file:\n",
    "    json.dump(sorted_by_date, file, ensure_ascii=False, indent=2)"
   ]
  }
 ],
 "metadata": {
  "kernelspec": {
   "display_name": "Python 3",
   "language": "python",
   "name": "python3"
  },
  "language_info": {
   "codemirror_mode": {
    "name": "ipython",
    "version": 3
   },
   "file_extension": ".py",
   "mimetype": "text/x-python",
   "name": "python",
   "nbconvert_exporter": "python",
   "pygments_lexer": "ipython3",
   "version": "3.12.4"
  }
 },
 "nbformat": 4,
 "nbformat_minor": 2
}
