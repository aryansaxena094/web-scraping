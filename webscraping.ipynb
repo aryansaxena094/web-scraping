{
 "cells": [
  {
   "cell_type": "code",
   "execution_count": 7,
   "metadata": {},
   "outputs": [
    {
     "name": "stdout",
     "output_type": "stream",
     "text": [
      "Data has been saved to product_mentions.json\n"
     ]
    },
    {
     "name": "stderr",
     "output_type": "stream",
     "text": [
      "/var/folders/4c/6f4zjqbs5tv0rl2p0nbskkp40000gn/T/ipykernel_28124/1317230765.py:15: DeprecationWarning: datetime.datetime.utcfromtimestamp() is deprecated and scheduled for removal in a future version. Use timezone-aware objects to represent datetimes in UTC: datetime.datetime.fromtimestamp(timestamp, datetime.UTC).\n",
      "  created_date = datetime.utcfromtimestamp(post.created_utc).strftime('%Y-%m-%d %H:%M:%S')\n"
     ]
    }
   ],
   "source": [
    "import praw\n",
    "import json\n",
    "from datetime import datetime\n",
    "reddit = praw.Reddit(\n",
    "    client_id='B-qrtXmBJd2BgAAwmKozQg',\n",
    "    client_secret='iVwh4ZpT35sQMBvye7nKaz8839LDPQ',\n",
    "    user_agent='YOUR_USER_AGENT'\n",
    ")\n",
    "subreddit_name = 'IndianSkincareAddicts'\n",
    "subreddit = reddit.subreddit(subreddit_name)\n",
    "search_query = 'Love Beauty and Planet'\n",
    "search_results = subreddit.search(search_query, limit=200)\n",
    "parsed_posts = []\n",
    "for post in search_results:\n",
    "    created_date = datetime.utcfromtimestamp(post.created_utc).strftime('%Y-%m-%d %H:%M:%S')\n",
    "    full_permalink = f\"https://www.reddit.com{post.permalink}\"\n",
    "    parsed_posts.append({\n",
    "        'post_title': post.title,\n",
    "        'post_url': full_permalink,\n",
    "        'score': post.score,\n",
    "        'author': str(post.author),\n",
    "        'created_date': created_date,\n",
    "        'num_comments': post.num_comments,\n",
    "        'selftext': post.selftext\n",
    "    })\n",
    "output_file_path = 'product_mentions.json'\n",
    "with open(output_file_path, 'w', encoding='utf-8') as json_file:\n",
    "    json.dump(parsed_posts, json_file, ensure_ascii=False, indent=2)\n",
    "print(f\"Data has been saved to {output_file_path}\")"
   ]
  }
 ],
 "metadata": {
  "kernelspec": {
   "display_name": "Python 3",
   "language": "python",
   "name": "python3"
  },
  "language_info": {
   "codemirror_mode": {
    "name": "ipython",
    "version": 3
   },
   "file_extension": ".py",
   "mimetype": "text/x-python",
   "name": "python",
   "nbconvert_exporter": "python",
   "pygments_lexer": "ipython3",
   "version": "3.12.4"
  }
 },
 "nbformat": 4,
 "nbformat_minor": 2
}
