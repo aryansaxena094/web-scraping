{
 "cells": [
  {
   "cell_type": "code",
   "execution_count": 2,
   "metadata": {},
   "outputs": [
    {
     "name": "stderr",
     "output_type": "stream",
     "text": [
      "/var/folders/4c/6f4zjqbs5tv0rl2p0nbskkp40000gn/T/ipykernel_32923/3055379407.py:21: DeprecationWarning: datetime.datetime.utcfromtimestamp() is deprecated and scheduled for removal in a future version. Use timezone-aware objects to represent datetimes in UTC: datetime.datetime.fromtimestamp(timestamp, datetime.UTC).\n",
      "  created_date = datetime.utcfromtimestamp(post.created_utc).strftime('%Y-%m-%d %H:%M:%S')\n",
      "/var/folders/4c/6f4zjqbs5tv0rl2p0nbskkp40000gn/T/ipykernel_32923/3055379407.py:43: DeprecationWarning: datetime.datetime.utcfromtimestamp() is deprecated and scheduled for removal in a future version. Use timezone-aware objects to represent datetimes in UTC: datetime.datetime.fromtimestamp(timestamp, datetime.UTC).\n",
      "  'comment_created_date': datetime.utcfromtimestamp(comment.created_utc).strftime('%Y-%m-%d %H:%M:%S')\n"
     ]
    },
    {
     "name": "stdout",
     "output_type": "stream",
     "text": [
      "Data has been saved to product_mentions_with_comments.json\n"
     ]
    }
   ],
   "source": [
    "import praw\n",
    "import json\n",
    "from datetime import datetime\n",
    "\n",
    "reddit = praw.Reddit(\n",
    "    client_id='B-qrtXmBJd2BgAAwmKozQg',\n",
    "    client_secret='iVwh4ZpT35sQMBvye7nKaz8839LDPQ',\n",
    "    user_agent='YOUR_USER_AGENT'\n",
    ")\n",
    "\n",
    "subreddit_name = 'IndianSkincareAddicts'\n",
    "subreddit = reddit.subreddit(subreddit_name)\n",
    "search_query = 'Love Beauty and Planet'\n",
    "search_results = subreddit.search(search_query, limit=200)\n",
    "\n",
    "parsed_posts = []\n",
    "for post in search_results:\n",
    "    # Convert post creation time to human-readable format\n",
    "    created_date = datetime.utcfromtimestamp(post.created_utc).strftime('%Y-%m-%d %H:%M:%S')\n",
    "    full_permalink = f\"https://www.reddit.com{post.permalink}\"\n",
    "    \n",
    "    # Gather post details\n",
    "    post_data = {\n",
    "        'post_title': post.title,\n",
    "        'post_url': full_permalink,\n",
    "        'score': post.score,\n",
    "        'author': str(post.author),\n",
    "        'created_date': created_date,\n",
    "        'num_comments': post.num_comments,\n",
    "        'selftext': post.selftext,\n",
    "        'comments': []\n",
    "    }\n",
    "    \n",
    "    # Fetch comments\n",
    "    post.comments.replace_more(limit=0)  # This avoids loading additional comments\n",
    "    for comment in post.comments.list():\n",
    "        comment_data = {\n",
    "            'comment_author': str(comment.author),\n",
    "            'comment_body': comment.body,\n",
    "            'comment_score': comment.score,\n",
    "            'comment_created_date': datetime.utcfromtimestamp(comment.created_utc).strftime('%Y-%m-%d %H:%M:%S')\n",
    "        }\n",
    "        post_data['comments'].append(comment_data)\n",
    "    \n",
    "    parsed_posts.append(post_data)\n",
    "\n",
    "# Save data to a JSON file\n",
    "output_file_path = 'product_mentions_with_comments.json'\n",
    "with open(output_file_path, 'w', encoding='utf-8') as json_file:\n",
    "    json.dump(parsed_posts, json_file, ensure_ascii=False, indent=2)\n",
    "\n",
    "print(f\"Data has been saved to {output_file_path}\")"
   ]
  },
  {
   "cell_type": "code",
   "execution_count": 6,
   "metadata": {},
   "outputs": [
    {
     "name": "stdout",
     "output_type": "stream",
     "text": [
      "Top recurring words have been saved to top_words.json\n"
     ]
    }
   ],
   "source": [
    "import json\n",
    "import re\n",
    "from collections import Counter\n",
    "from typing import List, Dict\n",
    "def load_comments(file_path: str) -> List[str]:\n",
    "    \"\"\"Load comments from a JSON file.\"\"\"\n",
    "    with open(file_path, 'r', encoding='utf-8') as file:\n",
    "        data = json.load(file)\n",
    "    comments = []\n",
    "    for post in data:\n",
    "        for comment in post.get('comments', []):\n",
    "            comments.append(comment.get('comment_body', ''))\n",
    "    return comments\n",
    "\n",
    "def tokenize(text: str) -> List[str]:\n",
    "    \"\"\"Tokenize text into words.\"\"\"\n",
    "    text = text.lower()\n",
    "    words = re.findall(r'\\b[a-z]+\\b', text)\n",
    "    return words\n",
    "def main():\n",
    "    input_file_path = 'product_mentions_with_comments.json'\n",
    "    comments = load_comments(input_file_path)\n",
    "    all_words = []\n",
    "    for comment in comments:\n",
    "        all_words.extend(tokenize(comment))\n",
    "    stopwords = set([\n",
    "        'i', 'me', 'my', 'myself', 'we', 'our', 'ours', 'ourselves', 'you', 'your', 'yours', 'yourself', 'yourselves',\n",
    "        'he', 'him', 'his', 'himself', 'she', 'her', 'hers', 'herself', 'it', 'its', 'itself', 'they', 'them', 'their',\n",
    "        'theirs', 'themselves', 'what', 'which', 'who', 'whom', 'this', 'that', 'these', 'those', 'am', 'is', 'are', 'was',\n",
    "        'were', 'be', 'been', 'being', 'have', 'has', 'had', 'having', 'do', 'does', 'did', 'doing', 'a', 'an', 'the', 'and',\n",
    "        'but', 'if', 'or', 'because', 'as', 'until', 'while', 'of', 'at', 'by', 'for', 'with', 'about', 'against', 'between',\n",
    "        'into', 'through', 'during', 'before', 'after', 'above', 'below', 'to', 'from', 'up', 'down', 'in', 'out', 'on',\n",
    "        'off', 'over', 'under', 'again', 'further', 'then', 'once', 'here', 'there', 'when', 'where', 'why', 'how', 'all',\n",
    "        'any', 'both', 'each', 'few', 'more', 'most', 'other', 'some', 'such', 'no', 'nor', 'not', 'only', 'own', 'same',\n",
    "        'so', 'than', 'too', 'very', 's', 't', 'can', 'will', 'just', 'don', 'should', 'now'\n",
    "    ])\n",
    "    filtered_words = [word for word in all_words if word not in stopwords]\n",
    "    word_counts = Counter(filtered_words)\n",
    "    top_50_words = word_counts.most_common(200)\n",
    "    output_data = [{'word': word, 'count': count} for word, count in top_50_words]\n",
    "    output_file_path = 'top_words.json'\n",
    "    with open(output_file_path, 'w', encoding='utf-8') as file:\n",
    "        json.dump(output_data, file, ensure_ascii=False, indent=2)\n",
    "\n",
    "    print(f\"Top recurring words have been saved to {output_file_path}\")\n",
    "\n",
    "if __name__ == \"__main__\":\n",
    "    main()"
   ]
  }
 ],
 "metadata": {
  "kernelspec": {
   "display_name": "Python 3",
   "language": "python",
   "name": "python3"
  },
  "language_info": {
   "codemirror_mode": {
    "name": "ipython",
    "version": 3
   },
   "file_extension": ".py",
   "mimetype": "text/x-python",
   "name": "python",
   "nbconvert_exporter": "python",
   "pygments_lexer": "ipython3",
   "version": "3.12.4"
  }
 },
 "nbformat": 4,
 "nbformat_minor": 2
}
